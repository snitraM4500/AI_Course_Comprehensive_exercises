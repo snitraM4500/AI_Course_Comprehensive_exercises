{
  "nbformat": 4,
  "nbformat_minor": 0,
  "metadata": {
    "colab": {
      "provenance": [],
      "authorship_tag": "ABX9TyNb2+KSnsir7XsriDU9E45a",
      "include_colab_link": true
    },
    "kernelspec": {
      "name": "python3",
      "display_name": "Python 3"
    },
    "language_info": {
      "name": "python"
    }
  },
  "cells": [
    {
      "cell_type": "markdown",
      "metadata": {
        "id": "view-in-github",
        "colab_type": "text"
      },
      "source": [
        "<a href=\"https://colab.research.google.com/github/snitraM4500/AI_Course_Comprehensive_exercises/blob/main/mtfuji.ipynb\" target=\"_parent\"><img src=\"https://colab.research.google.com/assets/colab-badge.svg\" alt=\"Open In Colab\"/></a>"
      ]
    },
    {
      "cell_type": "markdown",
      "source": [
        "# Problem 1"
      ],
      "metadata": {
        "id": "caiWQzePHnzv"
      }
    },
    {
      "cell_type": "code",
      "execution_count": 10,
      "metadata": {
        "colab": {
          "base_uri": "https://localhost:8080/"
        },
        "id": "M4rCMKM4F34W",
        "outputId": "66fa5b35-3f65-4993-d1a8-4481d09846e9"
      },
      "outputs": [
        {
          "output_type": "stream",
          "name": "stdout",
          "text": [
            "The minimum number of folds necessary to exceed mount fuji is:26\n",
            "The minimum number of folds necessary to exceed the nearest non-sun star is:69\n"
          ]
        }
      ],
      "source": [
        "def number_folds(distance):\n",
        "  thickness = 0.00008\n",
        "  iterations=0\n",
        "  folded_thickness = thickness * 2**iterations\n",
        "  while folded_thickness<distance:\n",
        "    iterations+=1\n",
        "    folded_thickness =thickness * 2**iterations\n",
        "  return iterations\n",
        "\n",
        "print(\"The minimum number of folds necessary to exceed mount fuji is:{}\".format(number_folds(3776)))\n",
        "print(\"The minimum number of folds necessary to exceed the nearest non-sun star is:{}\".format(number_folds(40000000000000000)))\n"
      ]
    },
    {
      "cell_type": "markdown",
      "source": [
        "# Problem 2"
      ],
      "metadata": {
        "id": "eCtSQmXmNPqe"
      }
    },
    {
      "cell_type": "code",
      "source": [
        "import math\n",
        "def paper_length(number_folds):\n",
        "  thickness = 0.00008\n",
        "  length= ((3.14*thickness)/6)*((2**number_folds)+4)*((2**number_folds)-1)\n",
        "  return length\n",
        "\n",
        "print(\"The lenght necessary to exceed mount fuji is:{:.2f}m\".format(paper_length(number_folds(3776))))\n",
        "print(\"The lenght necessary to exceed the nearest non-sun star is:{:.2f}m\".format(paper_length(number_folds(40000000000000000))))\n"
      ],
      "metadata": {
        "colab": {
          "base_uri": "https://localhost:8080/"
        },
        "id": "g2wKrcTiG7Mc",
        "outputId": "04c1f3c0-0491-4885-8e51-26f290a6244f"
      },
      "execution_count": 19,
      "outputs": [
        {
          "output_type": "stream",
          "name": "stdout",
          "text": [
            "The lenght necessary to exceed mount fuji is:188550712828.12m\n",
            "The lenght necessary to exceed the nearest non-sun star is:14588404150705450514205181906092294144.00m\n"
          ]
        }
      ]
    }
  ]
}