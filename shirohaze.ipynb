{
  "nbformat": 4,
  "nbformat_minor": 0,
  "metadata": {
    "colab": {
      "provenance": [],
      "authorship_tag": "ABX9TyNQn/KgrLJ4b7yZjxIinKDe",
      "include_colab_link": true
    },
    "kernelspec": {
      "name": "python3",
      "display_name": "Python 3"
    },
    "language_info": {
      "name": "python"
    }
  },
  "cells": [
    {
      "cell_type": "markdown",
      "metadata": {
        "id": "view-in-github",
        "colab_type": "text"
      },
      "source": [
        "<a href=\"https://colab.research.google.com/github/snitraM4500/AI_Course_Comprehensive_exercises/blob/main/shirohaze.ipynb\" target=\"_parent\"><img src=\"https://colab.research.google.com/assets/colab-badge.svg\" alt=\"Open In Colab\"/></a>"
      ]
    },
    {
      "cell_type": "markdown",
      "source": [
        "# Problem 1"
      ],
      "metadata": {
        "id": "51o26ftXAYdg"
      }
    },
    {
      "cell_type": "code",
      "execution_count": 6,
      "metadata": {
        "colab": {
          "base_uri": "https://localhost:8080/"
        },
        "id": "Bt9CAQZRcJau",
        "outputId": "d490fa5f-04a6-49d2-8783-5ac2af165d4e"
      },
      "outputs": [
        {
          "output_type": "stream",
          "name": "stdout",
          "text": [
            "Total number of grains of rice:1267650600228229401496703205375\n"
          ]
        }
      ],
      "source": [
        "import math\n",
        "\n",
        "# Number of days to evaluate\n",
        "N_DAYS=100\n",
        "def compute_sorori_shinzaemon(N_DAYS=100):\n",
        "  list_n_grains=[]\n",
        "  total_grains=0\n",
        "  list_total_grains=[]\n",
        "\n",
        "  # loop to append the list of daily grains and list of daily sum of grain\n",
        "  for i in range(N_DAYS):\n",
        "      if i==0:\n",
        "          list_n_grains.append(1)\n",
        "      else:\n",
        "          list_n_grains.append(2**i)\n",
        "      total_grains+=list_n_grains[i]\n",
        "      list_total_grains.append(total_grains)\n",
        "\n",
        "  return list_n_grains, list_total_grains\n",
        "\n",
        "list_n_grains, list_total_grains=compute_sorori_shinzaemon(N_DAYS)\n",
        "print(\"Total number of grains of rice:{}\".format(list_total_grains[len(list_total_grains)-1]))\n",
        "\n"
      ]
    },
    {
      "cell_type": "markdown",
      "source": [
        "## Problem 2"
      ],
      "metadata": {
        "id": "Yx3SEOd2A3kS"
      }
    },
    {
      "cell_type": "code",
      "source": [
        "print(list_total_grains)\n",
        "print(list_n_grains)"
      ],
      "metadata": {
        "colab": {
          "base_uri": "https://localhost:8080/"
        },
        "id": "QB54t1FuA2Z3",
        "outputId": "6dbfb9bf-a7c5-4825-8d25-a70c63dc78a6"
      },
      "execution_count": 7,
      "outputs": [
        {
          "output_type": "stream",
          "name": "stdout",
          "text": [
            "[1, 3, 7, 15, 31, 63, 127, 255, 511, 1023, 2047, 4095, 8191, 16383, 32767, 65535, 131071, 262143, 524287, 1048575, 2097151, 4194303, 8388607, 16777215, 33554431, 67108863, 134217727, 268435455, 536870911, 1073741823, 2147483647, 4294967295, 8589934591, 17179869183, 34359738367, 68719476735, 137438953471, 274877906943, 549755813887, 1099511627775, 2199023255551, 4398046511103, 8796093022207, 17592186044415, 35184372088831, 70368744177663, 140737488355327, 281474976710655, 562949953421311, 1125899906842623, 2251799813685247, 4503599627370495, 9007199254740991, 18014398509481983, 36028797018963967, 72057594037927935, 144115188075855871, 288230376151711743, 576460752303423487, 1152921504606846975, 2305843009213693951, 4611686018427387903, 9223372036854775807, 18446744073709551615, 36893488147419103231, 73786976294838206463, 147573952589676412927, 295147905179352825855, 590295810358705651711, 1180591620717411303423, 2361183241434822606847, 4722366482869645213695, 9444732965739290427391, 18889465931478580854783, 37778931862957161709567, 75557863725914323419135, 151115727451828646838271, 302231454903657293676543, 604462909807314587353087, 1208925819614629174706175, 2417851639229258349412351, 4835703278458516698824703, 9671406556917033397649407, 19342813113834066795298815, 38685626227668133590597631, 77371252455336267181195263, 154742504910672534362390527, 309485009821345068724781055, 618970019642690137449562111, 1237940039285380274899124223, 2475880078570760549798248447, 4951760157141521099596496895, 9903520314283042199192993791, 19807040628566084398385987583, 39614081257132168796771975167, 79228162514264337593543950335, 158456325028528675187087900671, 316912650057057350374175801343, 633825300114114700748351602687, 1267650600228229401496703205375]\n",
            "[1, 2, 4, 8, 16, 32, 64, 128, 256, 512, 1024, 2048, 4096, 8192, 16384, 32768, 65536, 131072, 262144, 524288, 1048576, 2097152, 4194304, 8388608, 16777216, 33554432, 67108864, 134217728, 268435456, 536870912, 1073741824, 2147483648, 4294967296, 8589934592, 17179869184, 34359738368, 68719476736, 137438953472, 274877906944, 549755813888, 1099511627776, 2199023255552, 4398046511104, 8796093022208, 17592186044416, 35184372088832, 70368744177664, 140737488355328, 281474976710656, 562949953421312, 1125899906842624, 2251799813685248, 4503599627370496, 9007199254740992, 18014398509481984, 36028797018963968, 72057594037927936, 144115188075855872, 288230376151711744, 576460752303423488, 1152921504606846976, 2305843009213693952, 4611686018427387904, 9223372036854775808, 18446744073709551616, 36893488147419103232, 73786976294838206464, 147573952589676412928, 295147905179352825856, 590295810358705651712, 1180591620717411303424, 2361183241434822606848, 4722366482869645213696, 9444732965739290427392, 18889465931478580854784, 37778931862957161709568, 75557863725914323419136, 151115727451828646838272, 302231454903657293676544, 604462909807314587353088, 1208925819614629174706176, 2417851639229258349412352, 4835703278458516698824704, 9671406556917033397649408, 19342813113834066795298816, 38685626227668133590597632, 77371252455336267181195264, 154742504910672534362390528, 309485009821345068724781056, 618970019642690137449562112, 1237940039285380274899124224, 2475880078570760549798248448, 4951760157141521099596496896, 9903520314283042199192993792, 19807040628566084398385987584, 39614081257132168796771975168, 79228162514264337593543950336, 158456325028528675187087900672, 316912650057057350374175801344, 633825300114114700748351602688]\n"
          ]
        }
      ]
    },
    {
      "cell_type": "markdown",
      "source": [
        "# Problem 3"
      ],
      "metadata": {
        "id": "BJvDt_cwAXke"
      }
    },
    {
      "cell_type": "code",
      "source": [
        "\n",
        "N_PEOPLE=10\n",
        "def days_survival(total_grains,n_people):\n",
        "  grains_per_person=5000\n",
        "  survival_days=total_grains/(n_people*grains_per_person)\n",
        "  return survival_days\n",
        "\n",
        "# If we are estimating for 22 days\n",
        "survivl_days=days_survival(list_total_grains[22],N_PEOPLE)\n",
        "print(\"The number of days of survival for 10 people with 22 days worth of grains is:{}\".format(math.ceil(survivl_days)))\n",
        "\n",
        "# If we are estimating for 30 days\n",
        "survivl_days=days_survival(list_total_grains[30],N_PEOPLE)\n",
        "print(\"The number of days of survival for 10 people with 30 days worth of grains is:{}\".format(math.ceil(survivl_days)))\n",
        "\n",
        "# If we are estimating for 22 days\n",
        "survivl_days=days_survival(list_total_grains[22],20)\n",
        "print(\"The number of days of survival for 20 people with 22 days worth of grains is:{}\".format(math.ceil(survivl_days)))\n",
        "\n",
        "# If we are estimating for 30 days\n",
        "survivl_days=days_survival(list_total_grains[30],20)\n",
        "print(\"The number of days of survival for 20 people with 30 days worth of grains is:{}\".format(math.ceil(survivl_days)))"
      ],
      "metadata": {
        "id": "JKiyXPXRdo-3",
        "colab": {
          "base_uri": "https://localhost:8080/"
        },
        "outputId": "8a2f17d9-dfe8-4756-c7c4-01640360dad6"
      },
      "execution_count": 11,
      "outputs": [
        {
          "output_type": "stream",
          "name": "stdout",
          "text": [
            "The number of days of survival for 10 people with 22 days worth of grains is:168\n",
            "The number of days of survival for 10 people with 30 days worth of grains is:42950\n",
            "The number of days of survival for 20 people with 22 days worth of grains is:84\n",
            "The number of days of survival for 20 people with 30 days worth of grains is:21475\n"
          ]
        }
      ]
    },
    {
      "cell_type": "markdown",
      "source": [
        "\n",
        "\n",
        "> 1st: searched on google \"how many calories should i eat\", says \"for females is 1600-2400 and males 2200 to 3000\", I chose 2400 because its enough for both man and women\n",
        "\n",
        "> 2nd: searchd on google '2400cal is how many kilograms\", using the formula kilogram=cal*0.00013, substituting cal for 2400 we obtain 0.312 kilograms\n",
        "\n",
        "> 3rd: 1 grain weight approximately 64milligrams, and 0.312Killograms is approximately 312000 milligrams\n",
        "\n",
        "> 4th: 312000milligrams is approximately 5000 grains, so per person daily is needed 5000 grains of rice\n",
        "\n",
        "\n",
        "\n",
        "\n"
      ],
      "metadata": {
        "id": "cdV_fkkVBgN-"
      }
    }
  ]
}