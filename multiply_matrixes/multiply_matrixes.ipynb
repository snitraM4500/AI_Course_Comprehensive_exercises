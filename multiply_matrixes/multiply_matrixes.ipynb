{
  "nbformat": 4,
  "nbformat_minor": 0,
  "metadata": {
    "colab": {
      "provenance": [],
      "authorship_tag": "ABX9TyOtvMZn/MSnzFqD98Cq2ZvC",
      "include_colab_link": true
    },
    "kernelspec": {
      "name": "python3",
      "display_name": "Python 3"
    },
    "language_info": {
      "name": "python"
    }
  },
  "cells": [
    {
      "cell_type": "markdown",
      "metadata": {
        "id": "view-in-github",
        "colab_type": "text"
      },
      "source": [
        "<a href=\"https://colab.research.google.com/github/snitraM4500/AI_Course_Comprehensive_exercises/blob/main/multiply_matrixes/multiply_matrixes.ipynb\" target=\"_parent\"><img src=\"https://colab.research.google.com/assets/colab-badge.svg\" alt=\"Open In Colab\"/></a>"
      ]
    },
    {
      "cell_type": "markdown",
      "source": [
        "\n",
        "\n",
        "A=\n",
        "\\begin{bmatrix}\n",
        "-1 & 2 & 3 \\\\\n",
        "4 & -5 & 6 \\\\\n",
        "7 & 8 & 9\n",
        "\\end{bmatrix}\n",
        ",\n",
        "B=\n",
        "\\begin{bmatrix}\n",
        "0 & 2 & 1 \\\\\n",
        "0 & 2 & -8 \\\\\n",
        "2 & 9 & -1\n",
        "\\end{bmatrix}\n",
        "\n",
        "\n",
        "\n",
        "1.   First we need to get the shapes of the columns, which are A=3x3 a B=3x3. What defines if 2 matrixs can multiply is wether the number of columns of the first element multiplyng is the same has the number of rows of the second element, in this case it is indeed 3x3 with 3x3 so it abides by that rule\n",
        "2.   We multiply and add the elements of coumn 0 with the elements of row 0 and the result forms a new matrix.\n",
        "3.  The resulting matrix will always be the number of rows of the first matrix with the number of columns of the second matrix. So the ending marix will be 3x3.\n",
        "\n",
        "Below are the results that will compromise the new matrix\n",
        "-----\n",
        "\n",
        "---\n",
        "0x0= -1 x 0 + 2 x 0 + 3 x 2 = 0 + 0 + 6 = 6\n",
        "\n",
        "0x1= -1 x 2 + 2 x 2 + 3 x 9 = -2 + 4 + 27 = 29\n",
        "\n",
        "0x2= -1 x 1 + 2 x -8 + 3 x -1 = -1 + -16 + -3 = -20\n",
        "\n",
        "1x0 = 4 x 0 + -5 x 0 + 6 x 2 = 0 + 0 + 12 = 12\n",
        "\n",
        "1x1 = 4 x 2 + -5 x 2 + 6 x 9 = 8 + -10 + 54 = 52\n",
        "\n",
        "1x2 = 4 x 1 + -5 x -8 + 6 x -1 = 4 + 40 + -6 = 38\n",
        "\n",
        "2x0 = 7 x 0 + 8 x 0 + 9 x 2 = 0 + 0 + 18 = 18\n",
        "\n",
        "2x1 = 7 x 2 + 8 x 2 + 9 x 9 = 14 + 16 + 81 = 111\n",
        "\n",
        "2x2 = 7 x 1 + 8 x -8 + 9 x -1 = 7 + -64 + -9 = -66\n",
        "\n",
        "Therefore, the resulting matrix C = A x B is:\n",
        "\n",
        "C = \\begin{bmatrix} 6 & 29 & -20\\\\ 12 & 52 & 38\\\\\n",
        "18 & 111 & -66 \\end{bmatrix}\n",
        "\n"
      ],
      "metadata": {
        "id": "26yEM1J6MSC1"
      }
    },
    {
      "cell_type": "code",
      "execution_count": 8,
      "metadata": {
        "colab": {
          "base_uri": "https://localhost:8080/"
        },
        "id": "rqNx0sbsivBV",
        "outputId": "59028ce9-1b32-42f0-d2a6-032821b7882b"
      },
      "outputs": [
        {
          "output_type": "execute_result",
          "data": {
            "text/plain": [
              "array([[  6,  29, -20],\n",
              "       [ 12,  52,  38],\n",
              "       [-18, -51, -48]])"
            ]
          },
          "metadata": {},
          "execution_count": 8
        }
      ],
      "source": [
        "import numpy as np\n",
        "a_ndarray = np.array([[-1, 2, 3], [4, -5, 6], [7, 8, -9]])\n",
        "b_ndarray = np.array([[0, 2, 1], [0, 2, -8], [2, 9, -1]])\n",
        "\n",
        "np.dot(a_ndarray, b_ndarray)"
      ]
    },
    {
      "cell_type": "code",
      "source": [
        "def multiply_matrixes(a_ndarray,b_ndarray):\n",
        "  arows,acolumns=a_ndarray.shape\n",
        "  brows,bcolumns=b_ndarray.shape\n",
        "  if(acolumns==brows):\n",
        "    new_array=np.zeros((arows,bcolumns))\n",
        "\n",
        "    for i in range(arows):\n",
        "      for j in range(bcolumns):\n",
        "        for k in range(acolumns):\n",
        "          new_array[i][j]+=a_ndarray[i][k]*b_ndarray[k][j]\n",
        "  else:\n",
        "    a_ndarray=np.transpose(a_ndarray)\n",
        "    arows,acolumns=a_ndarray.shape\n",
        "    if(acolumns==brows):\n",
        "      print(\"Error ocurred when multiplying matrixes\")\n",
        "      print(\"Matrixes will be transposed to conttinue the product\")\n",
        "      new_array=np.zeros((arows,bcolumns))\n",
        "      for i in range(arows):\n",
        "        for j in range(bcolumns):\n",
        "          for k in range(acolumns):\n",
        "            new_array[i][j]+=a_ndarray[i][k]*b_ndarray[k][j]\n",
        "    else:\n",
        "        return (\"These matrixes cannot be multiplied\")\n",
        "  return new_array\n",
        "\n",
        "print(multiply_matrixes(a_ndarray,b_ndarray))"
      ],
      "metadata": {
        "colab": {
          "base_uri": "https://localhost:8080/"
        },
        "id": "YitkzFkIUWmv",
        "outputId": "b15af24f-b096-47ac-a7ad-cfad28616f8e"
      },
      "execution_count": 9,
      "outputs": [
        {
          "output_type": "stream",
          "name": "stdout",
          "text": [
            "[[  6.  29. -20.]\n",
            " [ 12.  52.  38.]\n",
            " [-18. -51. -48.]]\n"
          ]
        }
      ]
    },
    {
      "cell_type": "code",
      "source": [
        "d_ndarray = np.array([[-1, 2, 3], [4, -5, 6]])\n",
        "e_ndarray = np.array([[-9, 8, 7], [6, -5, 4]])\n",
        "\n",
        "print(multiply_matrixes(d_ndarray,e_ndarray))"
      ],
      "metadata": {
        "colab": {
          "base_uri": "https://localhost:8080/"
        },
        "id": "1qz_RiiGVAUY",
        "outputId": "10f3e770-3f79-4a66-8693-0e76af6ea5d0"
      },
      "execution_count": 10,
      "outputs": [
        {
          "output_type": "stream",
          "name": "stdout",
          "text": [
            "Error ocurred when multiplying matrixes\n",
            "Matrixes will be transposed to conttinue the product\n",
            "[[ 33. -28.   9.]\n",
            " [-48.  41.  -6.]\n",
            " [  9.  -6.  45.]]\n"
          ]
        }
      ]
    },
    {
      "cell_type": "code",
      "source": [
        "p_ndarray = np.array([[-1, 2],[3,6]])\n",
        "v_ndarray = np.array([[-9, 8, 7], [6, -5, 4]])\n",
        "\n",
        "print(multiply_matrixes(p_ndarray,v_ndarray))"
      ],
      "metadata": {
        "id": "nvU8fQwOaXKG",
        "colab": {
          "base_uri": "https://localhost:8080/"
        },
        "outputId": "de3f5504-90b9-49c4-a5e5-03fee64a327b"
      },
      "execution_count": 13,
      "outputs": [
        {
          "output_type": "stream",
          "name": "stdout",
          "text": [
            "[[ 21. -18.   1.]\n",
            " [  9.  -6.  45.]]\n"
          ]
        }
      ]
    },
    {
      "cell_type": "code",
      "source": [
        "p_ndarray = np.array([[-1, 2],[3,6],[8,9]])\n",
        "v_ndarray = np.array([ [8, 7], [ -5, 4],[7,3]])\n",
        "\n",
        "print(multiply_matrixes(p_ndarray,v_ndarray))"
      ],
      "metadata": {
        "colab": {
          "base_uri": "https://localhost:8080/"
        },
        "id": "ULurt1UNjDDO",
        "outputId": "ab3844f4-8c4a-44f4-e423-7aeac6b70774"
      },
      "execution_count": 16,
      "outputs": [
        {
          "output_type": "stream",
          "name": "stdout",
          "text": [
            "Error ocurred when multiplying matrixes\n",
            "Matrixes will be transposed to conttinue the product\n",
            "[[33. 29.]\n",
            " [49. 65.]]\n"
          ]
        }
      ]
    },
    {
      "cell_type": "code",
      "source": [],
      "metadata": {
        "id": "-eXXAygWq1UU"
      },
      "execution_count": null,
      "outputs": []
    }
  ]
}