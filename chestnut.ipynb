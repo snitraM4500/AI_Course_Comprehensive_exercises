{
  "nbformat": 4,
  "nbformat_minor": 0,
  "metadata": {
    "colab": {
      "provenance": [],
      "authorship_tag": "ABX9TyOiU9a3O4RZDSWoIWjvfzns",
      "include_colab_link": true
    },
    "kernelspec": {
      "name": "python3",
      "display_name": "Python 3"
    },
    "language_info": {
      "name": "python"
    }
  },
  "cells": [
    {
      "cell_type": "markdown",
      "metadata": {
        "id": "view-in-github",
        "colab_type": "text"
      },
      "source": [
        "<a href=\"https://colab.research.google.com/github/snitraM4500/AI_Course_Comprehensive_exercises/blob/main/chestnut.ipynb\" target=\"_parent\"><img src=\"https://colab.research.google.com/assets/colab-badge.svg\" alt=\"Open In Colab\"/></a>"
      ]
    },
    {
      "cell_type": "code",
      "execution_count": 8,
      "metadata": {
        "colab": {
          "base_uri": "https://localhost:8080/"
        },
        "id": "5l9XrV2_jjPw",
        "outputId": "652ee6ff-0b35-4248-dc10-0d09bebff64f"
      },
      "outputs": [
        {
          "output_type": "stream",
          "name": "stdout",
          "text": [
            "524000000000000.0\n"
          ]
        }
      ],
      "source": [
        "# Chestnut bun volume in cubic centimeters\n",
        "CBVolume=283\n",
        "\n",
        "# milky way volume in cubic AU\n",
        "SSVolume=5.24*(10**14)\n",
        "print(SSVolume)"
      ]
    },
    {
      "cell_type": "code",
      "source": [
        "# function that converts from AU to centimeters\n",
        "def AU_centimeter_converter(value_AU):\n",
        "  return value_AU*(3.35*(10**39))\n",
        "\n",
        "SSCentimeterVolume=AU_centimeter_converter(SSVolume)\n",
        "print(\"Solar System value in cubic AU:{}\".format(SSVolume))\n",
        "print(\"Solar System value in cubic centimeters:{}\".format(SSCentimeterVolume))"
      ],
      "metadata": {
        "colab": {
          "base_uri": "https://localhost:8080/"
        },
        "id": "Aspdx4u2JOCz",
        "outputId": "9ff513ec-3f32-463e-ca9a-eede19e650a5"
      },
      "execution_count": 9,
      "outputs": [
        {
          "output_type": "stream",
          "name": "stdout",
          "text": [
            "Solar System value in cubic AU:524000000000000.0\n",
            "Solar System value in cubic centimeters:1.7553999999999998e+54\n"
          ]
        }
      ]
    },
    {
      "cell_type": "code",
      "source": [
        "# function that counts how many iterations it takes to fill up an area\n",
        "def filling_space_count(fill_area,fill_item):\n",
        "  area_volume=fill_item\n",
        "  iteration=0\n",
        "  while fill_area>area_volume:\n",
        "    area_volume+=fill_item*(2**iteration)\n",
        "    iteration+=1\n",
        "  return iteration\n",
        "\n",
        "def iterations_to_time(iterations,time_unit):\n",
        "  return iterations*time_unit\n",
        "\n",
        "iterations=filling_space_count(2000,CBVolume)\n",
        "minutes=iterations_to_time(iterations,5)\n",
        "print(\"In the following example, it's filling up a space of 2000 cubic cm with 283 cubic cm Chestnut buns, which took {} iterations, that amounts to {} minutes\".format(iterations,minutes))"
      ],
      "metadata": {
        "colab": {
          "base_uri": "https://localhost:8080/"
        },
        "id": "3m5chaHAJyWW",
        "outputId": "8bf88fcd-4925-4b96-f1a0-f7d634f896d5"
      },
      "execution_count": 10,
      "outputs": [
        {
          "output_type": "stream",
          "name": "stdout",
          "text": [
            "In the following example, it's filling up a space of 2000 cubic cm with 283 cubic cm Chestnut buns, which took 3 iterations, that amounts to 15 minutes\n"
          ]
        }
      ]
    },
    {
      "cell_type": "code",
      "source": [
        "# Now to fill up the solar system with chestnut buns\n",
        "iterations=filling_space_count(SSCentimeterVolume,CBVolume)\n",
        "minutes=iterations_to_time(iterations,5)\n",
        "print(\"In the following example, it's filling up a space of Solar System {} cubic cm with {} cubic cm Chestnut buns, which took {} iterations, that amounts to {} minutes\".format(SSCentimeterVolume,CBVolume,iterations,minutes))"
      ],
      "metadata": {
        "colab": {
          "base_uri": "https://localhost:8080/"
        },
        "id": "QPOktQmGOmr_",
        "outputId": "7b8118bf-23cd-42d5-e8e3-77a2645a5a90"
      },
      "execution_count": 12,
      "outputs": [
        {
          "output_type": "stream",
          "name": "stdout",
          "text": [
            "In the following example, it's filling up a space of 1.7553999999999998e+54 cubic cm with 283 cubic cm Chestnut buns, which took 173 iterations, that amounts to 865 minutes\n"
          ]
        }
      ]
    },
    {
      "cell_type": "code",
      "source": [
        "# Football volume filling up the Tokyo Dome\n",
        "TDVolume=1.24*(10**12)\n",
        "FBVolume=5792\n",
        "iterations=filling_space_count(TDVolume,FBVolume)\n",
        "minutes=iterations_to_time(iterations,5)\n",
        "print(\"In the following example, it's filling up a space of Tokyo Dome {} cubic cm with {} cubic cm Football, which took {} iterations, that amounts to {} minutes\".format(TDVolume,FBVolume,iterations,minutes))"
      ],
      "metadata": {
        "colab": {
          "base_uri": "https://localhost:8080/"
        },
        "id": "zq2rBUvKQNxR",
        "outputId": "4489b1ef-9c5d-4038-b9b2-c18db5f20bf7"
      },
      "execution_count": 15,
      "outputs": [
        {
          "output_type": "stream",
          "name": "stdout",
          "text": [
            "In the following example, it's filling up a space of Tokyo Dome 1240000000000.0 cubic cm with 5792 cubic cm Football, which took 28 iterations, that amounts to 140 minutes\n"
          ]
        }
      ]
    },
    {
      "cell_type": "code",
      "source": [
        "# Baseball volume filling up the Tokyo Dome\n",
        "BBVolume=209\n",
        "iterations=filling_space_count(TDVolume,BBVolume)\n",
        "minutes=iterations_to_time(iterations,5)\n",
        "print(\"In the following example, it's filling up a space of Tokyo Dome {} cubic cm with {} cubic cm Baseball, which took {} iterations, that amounts to {} minutes\".format(TDVolume,BBVolume,iterations,minutes))"
      ],
      "metadata": {
        "colab": {
          "base_uri": "https://localhost:8080/"
        },
        "id": "yY4nivxfRrNS",
        "outputId": "f94b3d38-001e-481e-fc7a-1e3e8024daac"
      },
      "execution_count": 16,
      "outputs": [
        {
          "output_type": "stream",
          "name": "stdout",
          "text": [
            "In the following example, it's filling up a space of Tokyo Dome 1240000000000.0 cubic cm with 209 cubic cm Baseball, which took 33 iterations, that amounts to 165 minutes\n"
          ]
        }
      ]
    },
    {
      "cell_type": "code",
      "source": [],
      "metadata": {
        "id": "HuX4zfT9SE4K"
      },
      "execution_count": null,
      "outputs": []
    }
  ]
}